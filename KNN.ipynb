{
  "nbformat": 4,
  "nbformat_minor": 0,
  "metadata": {
    "colab": {
      "provenance": []
    },
    "kernelspec": {
      "name": "python3",
      "display_name": "Python 3"
    },
    "language_info": {
      "name": "python"
    },
    "accelerator": "GPU",
    "gpuClass": "standard"
  },
  "cells": [
    {
      "cell_type": "code",
      "execution_count": 1,
      "metadata": {
        "id": "Qv6EHVtUXe5n"
      },
      "outputs": [],
      "source": [
        "import numpy as np\n",
        "import operator\n",
        "from operator import itemgetter\n",
        "from sklearn.model_selection import cross_val_score\n",
        "from sklearn.model_selection import train_test_split\n",
        "from sklearn.datasets import load_digits\n",
        "from sklearn.metrics import precision_recall_fscore_support\n",
        "from sklearn.metrics import accuracy_score\n",
        "import matplotlib.pyplot as plt"
      ]
    },
    {
      "cell_type": "markdown",
      "source": [
        "### KNN classifier"
      ],
      "metadata": {
        "id": "ZIoZlxYP_DX-"
      }
    },
    {
      "cell_type": "code",
      "source": [
        "#Euclidean Dist\n",
        "def euc_dist(x,y):\n",
        "  return np.sqrt(np.sum((x-y)**2))\n",
        "\n",
        "#KNN\n",
        "class KNN:\n",
        "\n",
        "  def __init__(self, K):\n",
        "    self.K = K\n",
        "\n",
        "  def fit(self, x_train, y_train):\n",
        "    self.X_train = x_train\n",
        "    self.Y_train = y_train\n",
        "\n",
        "  def predict(self, X_test):\n",
        "    predictions = []\n",
        "    for i in range(len(X_test)):\n",
        "      dist = np.array([euc_dist(self.X_train[i], x_t) for x_t in self.X_train])\n",
        "      dist_sorted = dist.argsort()[:self.K]\n",
        "      neigh_count = {}\n",
        "      for idx in dist_sorted:\n",
        "        if self.Y_train[idx] in neigh_count:\n",
        "          neigh_count[self.Y_train[idx]]+=1\n",
        "        else:\n",
        "          neigh_count[self.Y_train[idx]]=1\n",
        "      sorted_neigh_count = sorted(neigh_count.items(), key=operator.itemgetter(1), reverse=True)\n",
        "      predictions.append(sorted_neigh_count[0][0])\n",
        "    return predictions"
      ],
      "metadata": {
        "id": "ahD4VsrJe2bP"
      },
      "execution_count": 2,
      "outputs": []
    },
    {
      "cell_type": "markdown",
      "source": [
        "### Loading the dataset"
      ],
      "metadata": {
        "id": "HDsm433q_IrF"
      }
    },
    {
      "cell_type": "code",
      "source": [
        "mnist = load_digits()\n",
        "\n",
        "X = mnist.data\n",
        "y = mnist.target\n",
        "\n",
        "X_train, X_test, y_train, y_test = train_test_split(X, y, test_size=0.2, random_state=42)\n",
        "\n",
        "print(X_train.shape)\n",
        "print(X_test.shape)"
      ],
      "metadata": {
        "colab": {
          "base_uri": "https://localhost:8080/"
        },
        "id": "Jym0F8gBwXfK",
        "outputId": "0256e7f1-b897-45ff-a4c7-0fecf6c55ba4"
      },
      "execution_count": 3,
      "outputs": [
        {
          "output_type": "stream",
          "name": "stdout",
          "text": [
            "(1437, 64)\n",
            "(360, 64)\n"
          ]
        }
      ]
    },
    {
      "cell_type": "markdown",
      "source": [
        "### Using sklearn.neighbours and cross_val_score"
      ],
      "metadata": {
        "id": "glaskJCX2ih6"
      }
    },
    {
      "cell_type": "code",
      "source": [
        "from sklearn.neighbors import KNeighborsClassifier\n",
        "\n",
        "k_val = np.arange(3,100,2)\n",
        "acc = []\n",
        "\n",
        "for k in k_val:\n",
        "  model = KNeighborsClassifier(n_neighbors=k)\n",
        "  accuracy = cross_val_score(model, X_train, y_train, cv=5, scoring='accuracy')\n",
        "  acc.append(accuracy.mean())\n",
        "\n",
        "# Choosing the k corresponding to the highest accuracy\n",
        "max = acc.index(max(acc))\n",
        "k = k_val[max]\n",
        "print(k)"
      ],
      "metadata": {
        "id": "9AfEns_Rqorl",
        "colab": {
          "base_uri": "https://localhost:8080/"
        },
        "outputId": "7c9a2a0a-eb58-4245-a918-8f4db56eb0db"
      },
      "execution_count": 4,
      "outputs": [
        {
          "output_type": "stream",
          "name": "stdout",
          "text": [
            "3\n"
          ]
        }
      ]
    },
    {
      "cell_type": "code",
      "source": [
        "plt.plot(k_val, acc)\n",
        "plt.show()"
      ],
      "metadata": {
        "colab": {
          "base_uri": "https://localhost:8080/",
          "height": 430
        },
        "id": "0Ct8WoqwywPM",
        "outputId": "e38b940a-199c-497e-d16c-ec34668ce0a2"
      },
      "execution_count": 5,
      "outputs": [
        {
          "output_type": "display_data",
          "data": {
            "text/plain": [
              "<Figure size 640x480 with 1 Axes>"
            ],
            "image/png": "[encoded data removed]"
          },
          "metadata": {}
        }
      ]
    },
    {
      "cell_type": "code",
      "source": [
        "final_model = KNeighborsClassifier(n_neighbors = k)\n",
        "final_model.fit(X_train, y_train)\n",
        "y_pred = final_model.predict(X_test)\n",
        "\n",
        "from sklearn import metrics\n",
        "metrics.accuracy_score(y_test, y_pred)"
      ],
      "metadata": {
        "colab": {
          "base_uri": "https://localhost:8080/"
        },
        "id": "OEvBoKga1ZsY",
        "outputId": "db96fa3a-945d-4276-e062-a422234c84c8"
      },
      "execution_count": 6,
      "outputs": [
        {
          "output_type": "execute_result",
          "data": {
            "text/plain": [
              "0.9833333333333333"
            ]
          },
          "metadata": {},
          "execution_count": 6
        }
      ]
    }
  ]
}