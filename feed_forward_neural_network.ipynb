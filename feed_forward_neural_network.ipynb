{
  "nbformat": 4,
  "nbformat_minor": 0,
  "metadata": {
    "colab": {
      "provenance": []
    },
    "kernelspec": {
      "name": "python3",
      "display_name": "Python 3"
    },
    "language_info": {
      "name": "python"
    },
    "accelerator": "GPU",
    "gpuClass": "standard"
  },
  "cells": [
    {
      "cell_type": "markdown",
      "source": [
        "# Importing datasets"
      ],
      "metadata": {
        "id": "IYCni_dqLtIT"
      }
    },
    {
      "cell_type": "code",
      "execution_count": 1,
      "metadata": {
        "id": "GSLuo97sOuaS"
      },
      "outputs": [],
      "source": [
        "import torch\n",
        "import torchvision\n",
        "import matplotlib.pyplot as plt\n",
        "import numpy as np"
      ]
    },
    {
      "cell_type": "code",
      "source": [
        "from torchvision.datasets import MNIST\n",
        "from torchvision.transforms import Compose, ToTensor, Lambda, Normalize\n",
        "\n",
        "transform = Compose ([\n",
        "    ToTensor(),\n",
        "    Normalize((0.1377), (0.3130)),\n",
        "    Lambda(lambda image : image.view(784))\n",
        "])\n",
        "\n",
        "# Datasets\n",
        "data_train = MNIST(root=\"./\", download=True, train=True, transform=transform)\n",
        "data_test = MNIST(root=\"./\", download=True, train=False, transform=transform)\n",
        "\n",
        "data = MNIST(root=\"./\", download=True, train=False, transform=None)"
      ],
      "metadata": {
        "id": "lCY7dC4-VD0K",
        "colab": {
          "base_uri": "https://localhost:8080/"
        },
        "outputId": "999d36e5-7159-433e-fa2c-6308bd82920b"
      },
      "execution_count": 2,
      "outputs": [
        {
          "output_type": "stream",
          "name": "stdout",
          "text": [
            "Downloading http://yann.lecun.com/exdb/mnist/train-images-idx3-ubyte.gz\n",
            "Downloading http://yann.lecun.com/exdb/mnist/train-images-idx3-ubyte.gz to ./MNIST/raw/train-images-idx3-ubyte.gz\n"
          ]
        },
        {
          "output_type": "stream",
          "name": "stderr",
          "text": [
            "100%|██████████| 9912422/9912422 [00:00<00:00, 244482471.92it/s]"
          ]
        },
        {
          "output_type": "stream",
          "name": "stdout",
          "text": [
            "Extracting ./MNIST/raw/train-images-idx3-ubyte.gz to ./MNIST/raw\n"
          ]
        },
        {
          "output_type": "stream",
          "name": "stderr",
          "text": [
            "\n"
          ]
        },
        {
          "output_type": "stream",
          "name": "stdout",
          "text": [
            "\n",
            "Downloading http://yann.lecun.com/exdb/mnist/train-labels-idx1-ubyte.gz\n",
            "Downloading http://yann.lecun.com/exdb/mnist/train-labels-idx1-ubyte.gz to ./MNIST/raw/train-labels-idx1-ubyte.gz\n"
          ]
        },
        {
          "output_type": "stream",
          "name": "stderr",
          "text": [
            "100%|██████████| 28881/28881 [00:00<00:00, 10636201.06it/s]\n"
          ]
        },
        {
          "output_type": "stream",
          "name": "stdout",
          "text": [
            "Extracting ./MNIST/raw/train-labels-idx1-ubyte.gz to ./MNIST/raw\n",
            "\n",
            "Downloading http://yann.lecun.com/exdb/mnist/t10k-images-idx3-ubyte.gz\n",
            "Downloading http://yann.lecun.com/exdb/mnist/t10k-images-idx3-ubyte.gz to ./MNIST/raw/t10k-images-idx3-ubyte.gz\n"
          ]
        },
        {
          "output_type": "stream",
          "name": "stderr",
          "text": [
            "100%|██████████| 1648877/1648877 [00:00<00:00, 79674332.35it/s]"
          ]
        },
        {
          "output_type": "stream",
          "name": "stdout",
          "text": [
            "Extracting ./MNIST/raw/t10k-images-idx3-ubyte.gz to ./MNIST/raw\n",
            "\n",
            "Downloading http://yann.lecun.com/exdb/mnist/t10k-labels-idx1-ubyte.gz\n"
          ]
        },
        {
          "output_type": "stream",
          "name": "stderr",
          "text": [
            "\n"
          ]
        },
        {
          "output_type": "stream",
          "name": "stdout",
          "text": [
            "Downloading http://yann.lecun.com/exdb/mnist/t10k-labels-idx1-ubyte.gz to ./MNIST/raw/t10k-labels-idx1-ubyte.gz\n"
          ]
        },
        {
          "output_type": "stream",
          "name": "stderr",
          "text": [
            "100%|██████████| 4542/4542 [00:00<00:00, 19262415.34it/s]\n"
          ]
        },
        {
          "output_type": "stream",
          "name": "stdout",
          "text": [
            "Extracting ./MNIST/raw/t10k-labels-idx1-ubyte.gz to ./MNIST/raw\n",
            "\n"
          ]
        }
      ]
    },
    {
      "cell_type": "markdown",
      "source": [
        "# Model Definition"
      ],
      "metadata": {
        "id": "R8JudlmmMGAl"
      }
    },
    {
      "cell_type": "code",
      "source": [
        "from torch import nn,optim\n",
        "\n",
        "# Accesing gpu if available\n",
        "def get_default_device():\n",
        "  return torch.device(\"cuda\") if torch.cuda.is_available() else torch.device(\"cpu\")\n",
        "\n",
        "def to_t(tensor,device=get_default_device()):\n",
        "  return tensor.to(device)\n",
        "\n",
        "#Model definition\n",
        "class MNISTModel(nn.Module):\n",
        "  def __init__(self):\n",
        "      super().__init__()\n",
        "      self.layers = nn.Sequential(\n",
        "          nn.Linear(784,420),\n",
        "          nn.ReLU(),\n",
        "          nn.Linear(420,10)\n",
        "      )\n",
        "      self.loss = nn.CrossEntropyLoss()\n",
        "      self.optimizer = optim.Adam(self.parameters())  #lr = 0.001 by default\n",
        "      self.to(get_default_device())\n",
        "\n",
        "  def forward(self,X):\n",
        "      return self.layers(X)\n",
        "\n",
        "  def predict(self,X):\n",
        "      with torch.no_grad():\n",
        "        return torch.argmax(self.forward(X),axis=-1)\n",
        "\n",
        "  def fit(self,X,Y):\n",
        "      self.optimizer.zero_grad()\n",
        "      y_pred = self.forward(X)\n",
        "      loss = self.loss(y_pred,Y)\n",
        "      loss.backward()\n",
        "      self.optimizer.step()\n",
        "\n",
        "      return loss.item()"
      ],
      "metadata": {
        "id": "IsF2pZlIYvf0"
      },
      "execution_count": 3,
      "outputs": []
    },
    {
      "cell_type": "markdown",
      "source": [
        "# Training of the model"
      ],
      "metadata": {
        "id": "Ip6_bwbJMRTW"
      }
    },
    {
      "cell_type": "code",
      "source": [
        "from torch.utils.data import DataLoader\n",
        "from sklearn.model_selection import KFold\n",
        "from tqdm import tqdm\n",
        "\n",
        "#hyper params\n",
        "k_folds = 5\n",
        "accuracy = {}\n",
        "epoch = 5\n",
        "batch_size = 25\n",
        "PATH = \"model.pth\"\n",
        "\n",
        "\n",
        "min_loss = 9999"
      ],
      "metadata": {
        "id": "_5T18iAn24Er"
      },
      "execution_count": 4,
      "outputs": []
    },
    {
      "cell_type": "code",
      "source": [
        "kfold = KFold(n_splits = k_folds, shuffle = True)\n",
        "\n",
        "for fold, (train_ids, test_ids) in enumerate(kfold.split(data_train)):\n",
        "  print(f'Fold : {fold}')\n",
        "\n",
        "  loss_list = []\n",
        "  train_subsampler = torch.utils.data.SubsetRandomSampler(train_ids)\n",
        "  test_subsampler = torch.utils.data.SubsetRandomSampler(test_ids)\n",
        "\n",
        "  dataloader_train = DataLoader(data_train, batch_size=batch_size, sampler = train_subsampler)\n",
        "  dataloader_test = DataLoader(data_train, batch_size=batch_size, sampler = test_subsampler)\n",
        "\n",
        "  mnist_model = MNISTModel()\n",
        "\n",
        "  for i in range(epoch):\n",
        "    total_loss = 0\n",
        "    for r_xs,r_ys in tqdm(dataloader_train, desc=f\"Fitting Epoch {i+1}\"):\n",
        "      xs,ys = to_t(r_xs), to_t(r_ys)\n",
        "      total_loss +=mnist_model.fit(xs,ys)\n",
        "\n",
        "    total_loss /= len(dataloader_train)\n",
        "\n",
        "    loss_list+= [total_loss]\n",
        "    print(f\"Epoch {i+1}: {total_loss:.4f}\")\n",
        "\n",
        "  plt.plot(loss_list, label=f'Fold {fold}')\n",
        "  plt.xlabel(\"Epoch\")\n",
        "  plt.ylabel(\"Loss\")\n",
        "# plt.title(f\"distribution of pixels of {i} value {data_train[i][1]}\")\n",
        "\n",
        "  correct = 0\n",
        "  for r_xs,r_ys in dataloader_test:\n",
        "    xs,ys = to_t(r_xs), to_t(r_ys)\n",
        "    y_pred = mnist_model.predict(xs)\n",
        "    correct += (ys == y_pred).sum()\n",
        "  accuracy[fold] = correct/(len(dataloader_test)*batch_size)\n",
        "  val_loss = accuracy[fold]\n",
        "\n",
        "  if val_loss<min_loss :\n",
        "    min_loss = val_loss\n",
        "    torch.save(mnist_model.state_dict(),PATH)\n",
        "\n",
        "plt.legend()\n",
        "plt.show()"
      ],
      "metadata": {
        "id": "voJg2X5-dFSl",
        "colab": {
          "base_uri": "https://localhost:8080/",
          "height": 1000
        },
        "outputId": "de7e2466-e73a-41c5-f57d-3de261024c6f"
      },
      "execution_count": 5,
      "outputs": [
        {
          "output_type": "stream",
          "name": "stdout",
          "text": [
            "Fold : 0\n"
          ]
        },
        {
          "output_type": "stream",
          "name": "stderr",
          "text": [
            "Fitting Epoch 1: 100%|██████████| 1920/1920 [00:22<00:00, 84.59it/s] \n"
          ]
        },
        {
          "output_type": "stream",
          "name": "stdout",
          "text": [
            "Epoch 1: 0.2126\n"
          ]
        },
        {
          "output_type": "stream",
          "name": "stderr",
          "text": [
            "Fitting Epoch 2: 100%|██████████| 1920/1920 [00:13<00:00, 145.20it/s]\n"
          ]
        },
        {
          "output_type": "stream",
          "name": "stdout",
          "text": [
            "Epoch 2: 0.0963\n"
          ]
        },
        {
          "output_type": "stream",
          "name": "stderr",
          "text": [
            "Fitting Epoch 3: 100%|██████████| 1920/1920 [00:13<00:00, 143.00it/s]\n"
          ]
        },
        {
          "output_type": "stream",
          "name": "stdout",
          "text": [
            "Epoch 3: 0.0673\n"
          ]
        },
        {
          "output_type": "stream",
          "name": "stderr",
          "text": [
            "Fitting Epoch 4: 100%|██████████| 1920/1920 [00:13<00:00, 146.84it/s]\n"
          ]
        },
        {
          "output_type": "stream",
          "name": "stdout",
          "text": [
            "Epoch 4: 0.0538\n"
          ]
        },
        {
          "output_type": "stream",
          "name": "stderr",
          "text": [
            "Fitting Epoch 5: 100%|██████████| 1920/1920 [00:13<00:00, 144.07it/s]\n"
          ]
        },
        {
          "output_type": "stream",
          "name": "stdout",
          "text": [
            "Epoch 5: 0.0423\n",
            "Fold : 1\n"
          ]
        },
        {
          "output_type": "stream",
          "name": "stderr",
          "text": [
            "Fitting Epoch 1: 100%|██████████| 1920/1920 [00:13<00:00, 143.29it/s]\n"
          ]
        },
        {
          "output_type": "stream",
          "name": "stdout",
          "text": [
            "Epoch 1: 0.2088\n"
          ]
        },
        {
          "output_type": "stream",
          "name": "stderr",
          "text": [
            "Fitting Epoch 2: 100%|██████████| 1920/1920 [00:14<00:00, 135.49it/s]\n"
          ]
        },
        {
          "output_type": "stream",
          "name": "stdout",
          "text": [
            "Epoch 2: 0.0916\n"
          ]
        },
        {
          "output_type": "stream",
          "name": "stderr",
          "text": [
            "Fitting Epoch 3: 100%|██████████| 1920/1920 [00:13<00:00, 145.01it/s]\n"
          ]
        },
        {
          "output_type": "stream",
          "name": "stdout",
          "text": [
            "Epoch 3: 0.0677\n"
          ]
        },
        {
          "output_type": "stream",
          "name": "stderr",
          "text": [
            "Fitting Epoch 4: 100%|██████████| 1920/1920 [00:13<00:00, 144.12it/s]\n"
          ]
        },
        {
          "output_type": "stream",
          "name": "stdout",
          "text": [
            "Epoch 4: 0.0494\n"
          ]
        },
        {
          "output_type": "stream",
          "name": "stderr",
          "text": [
            "Fitting Epoch 5: 100%|██████████| 1920/1920 [00:13<00:00, 144.67it/s]\n"
          ]
        },
        {
          "output_type": "stream",
          "name": "stdout",
          "text": [
            "Epoch 5: 0.0407\n",
            "Fold : 2\n"
          ]
        },
        {
          "output_type": "stream",
          "name": "stderr",
          "text": [
            "Fitting Epoch 1: 100%|██████████| 1920/1920 [00:14<00:00, 136.77it/s]\n"
          ]
        },
        {
          "output_type": "stream",
          "name": "stdout",
          "text": [
            "Epoch 1: 0.2068\n"
          ]
        },
        {
          "output_type": "stream",
          "name": "stderr",
          "text": [
            "Fitting Epoch 2: 100%|██████████| 1920/1920 [00:13<00:00, 142.77it/s]\n"
          ]
        },
        {
          "output_type": "stream",
          "name": "stdout",
          "text": [
            "Epoch 2: 0.0918\n"
          ]
        },
        {
          "output_type": "stream",
          "name": "stderr",
          "text": [
            "Fitting Epoch 3: 100%|██████████| 1920/1920 [00:13<00:00, 144.64it/s]\n"
          ]
        },
        {
          "output_type": "stream",
          "name": "stdout",
          "text": [
            "Epoch 3: 0.0648\n"
          ]
        },
        {
          "output_type": "stream",
          "name": "stderr",
          "text": [
            "Fitting Epoch 4: 100%|██████████| 1920/1920 [00:13<00:00, 141.25it/s]\n"
          ]
        },
        {
          "output_type": "stream",
          "name": "stdout",
          "text": [
            "Epoch 4: 0.0505\n"
          ]
        },
        {
          "output_type": "stream",
          "name": "stderr",
          "text": [
            "Fitting Epoch 5: 100%|██████████| 1920/1920 [00:13<00:00, 141.66it/s]\n"
          ]
        },
        {
          "output_type": "stream",
          "name": "stdout",
          "text": [
            "Epoch 5: 0.0419\n",
            "Fold : 3\n"
          ]
        },
        {
          "output_type": "stream",
          "name": "stderr",
          "text": [
            "Fitting Epoch 1: 100%|██████████| 1920/1920 [00:13<00:00, 142.29it/s]\n"
          ]
        },
        {
          "output_type": "stream",
          "name": "stdout",
          "text": [
            "Epoch 1: 0.2151\n"
          ]
        },
        {
          "output_type": "stream",
          "name": "stderr",
          "text": [
            "Fitting Epoch 2: 100%|██████████| 1920/1920 [00:13<00:00, 143.63it/s]\n"
          ]
        },
        {
          "output_type": "stream",
          "name": "stdout",
          "text": [
            "Epoch 2: 0.0962\n"
          ]
        },
        {
          "output_type": "stream",
          "name": "stderr",
          "text": [
            "Fitting Epoch 3: 100%|██████████| 1920/1920 [00:13<00:00, 141.12it/s]\n"
          ]
        },
        {
          "output_type": "stream",
          "name": "stdout",
          "text": [
            "Epoch 3: 0.0657\n"
          ]
        },
        {
          "output_type": "stream",
          "name": "stderr",
          "text": [
            "Fitting Epoch 4: 100%|██████████| 1920/1920 [00:13<00:00, 142.91it/s]\n"
          ]
        },
        {
          "output_type": "stream",
          "name": "stdout",
          "text": [
            "Epoch 4: 0.0534\n"
          ]
        },
        {
          "output_type": "stream",
          "name": "stderr",
          "text": [
            "Fitting Epoch 5: 100%|██████████| 1920/1920 [00:13<00:00, 141.81it/s]\n"
          ]
        },
        {
          "output_type": "stream",
          "name": "stdout",
          "text": [
            "Epoch 5: 0.0423\n",
            "Fold : 4\n"
          ]
        },
        {
          "output_type": "stream",
          "name": "stderr",
          "text": [
            "Fitting Epoch 1: 100%|██████████| 1920/1920 [00:14<00:00, 134.87it/s]\n"
          ]
        },
        {
          "output_type": "stream",
          "name": "stdout",
          "text": [
            "Epoch 1: 0.2117\n"
          ]
        },
        {
          "output_type": "stream",
          "name": "stderr",
          "text": [
            "Fitting Epoch 2: 100%|██████████| 1920/1920 [00:13<00:00, 139.15it/s]\n"
          ]
        },
        {
          "output_type": "stream",
          "name": "stdout",
          "text": [
            "Epoch 2: 0.0927\n"
          ]
        },
        {
          "output_type": "stream",
          "name": "stderr",
          "text": [
            "Fitting Epoch 3: 100%|██████████| 1920/1920 [00:13<00:00, 140.72it/s]\n"
          ]
        },
        {
          "output_type": "stream",
          "name": "stdout",
          "text": [
            "Epoch 3: 0.0657\n"
          ]
        },
        {
          "output_type": "stream",
          "name": "stderr",
          "text": [
            "Fitting Epoch 4: 100%|██████████| 1920/1920 [00:13<00:00, 140.75it/s]\n"
          ]
        },
        {
          "output_type": "stream",
          "name": "stdout",
          "text": [
            "Epoch 4: 0.0501\n"
          ]
        },
        {
          "output_type": "stream",
          "name": "stderr",
          "text": [
            "Fitting Epoch 5: 100%|██████████| 1920/1920 [00:13<00:00, 142.54it/s]\n"
          ]
        },
        {
          "output_type": "stream",
          "name": "stdout",
          "text": [
            "Epoch 5: 0.0411\n"
          ]
        },
        {
          "output_type": "display_data",
          "data": {
            "text/plain": [
              "<Figure size 640x480 with 1 Axes>"
            ],
            "image/png": "[encoded data removed]"
          },
          "metadata": {}
        }
      ]
    },
    {
      "cell_type": "markdown",
      "source": [
        "# Accuracies and predictions\n"
      ],
      "metadata": {
        "id": "BjVz2-QZLbja"
      }
    },
    {
      "cell_type": "code",
      "source": [
        "print(f'Kfold cross-validation results for {k_folds} folds')\n",
        "\n",
        "sum = 0.0\n",
        "for key, value in accuracy.items():\n",
        "  print(f\"Fold {key} = {value}\")\n",
        "  sum += value\n",
        "\n",
        "print(f'Average accuracy = {sum/len(accuracy.items())}')"
      ],
      "metadata": {
        "id": "te2Ewy51Z88S",
        "colab": {
          "base_uri": "https://localhost:8080/"
        },
        "outputId": "70bb6fa5-2f76-43b4-99b8-67aa7c38e212"
      },
      "execution_count": 6,
      "outputs": [
        {
          "output_type": "stream",
          "name": "stdout",
          "text": [
            "Kfold cross-validation results for 5 folds\n",
            "Fold 0 = 0.971916675567627\n",
            "Fold 1 = 0.9735833406448364\n",
            "Fold 2 = 0.9742500185966492\n",
            "Fold 3 = 0.9758332967758179\n",
            "Fold 4 = 0.9711666703224182\n",
            "Average accuracy = 0.9733499884605408\n"
          ]
        }
      ]
    },
    {
      "cell_type": "code",
      "source": [
        "from sklearn.metrics import confusion_matrix, f1_score\n",
        "from IPython.display import Image\n",
        "dataloader_test = DataLoader(data_test, batch_size=batch_size)\n",
        "\n",
        "#load model\n",
        "final_mnist_model = MNISTModel()\n",
        "final_mnist_model.load_state_dict(torch.load(PATH))\n",
        "final_mnist_model.eval()\n",
        "\n",
        "matrix = torch.zeros(10,10)\n",
        "correct = 0\n",
        "preds = torch.empty(0)\n",
        "targets = torch.empty(0)\n",
        "\n",
        "preds,targets = to_t(preds), to_t(targets)\n",
        "\n",
        "for i,(r_xs,r_ys) in enumerate(dataloader_test):\n",
        "  xs,ys = to_t(r_xs), to_t(r_ys)\n",
        "  y_pred = final_mnist_model.predict(xs)\n",
        "  preds = torch.cat((preds,y_pred))\n",
        "  targets = torch.cat((targets,ys))\n",
        "  correct += (ys == y_pred).sum()\n",
        "  for j in range(25):\n",
        "    if y_pred[j].item()==3 and ys[j].item()==8 :\n",
        "      index = i*25 + j\n",
        "      display(data[index][0])\n",
        "\n",
        "matrix = confusion_matrix(preds.cpu().numpy(),targets.cpu().numpy())\n",
        "print(matrix)\n",
        "\n",
        "f1score = f1_score(preds.cpu().numpy(),targets.cpu().numpy(), average = 'micro')\n",
        "print(f\"F1 score: {f1score}\")\n",
        "accuracy = correct/(len(dataloader_test)*batch_size)\n",
        "print(f\"Accuracy: {accuracy}\")"
      ],
      "metadata": {
        "id": "9vo33hKdfzb8",
        "colab": {
          "base_uri": "https://localhost:8080/",
          "height": 347
        },
        "outputId": "2457c0a2-ff76-42f3-a961-13543b5888dc"
      },
      "execution_count": 8,
      "outputs": [
        {
          "output_type": "display_data",
          "data": {
            "text/plain": [
              "<PIL.Image.Image image mode=L size=28x28>"
            ],
            "image/png": "[encoded data removed]"
          },
          "metadata": {}
        },
        {
          "output_type": "display_data",
          "data": {
            "text/plain": [
              "<PIL.Image.Image image mode=L size=28x28>"
            ],
            "image/png": "[encoded data removed]"
          },
          "metadata": {}
        },
        {
          "output_type": "display_data",
          "data": {
            "text/plain": [
              "<PIL.Image.Image image mode=L size=28x28>"
            ],
            "image/png": "[encoded data removed]"
          },
          "metadata": {}
        },
        {
          "output_type": "display_data",
          "data": {
            "text/plain": [
              "<PIL.Image.Image image mode=L size=28x28>"
            ],
            "image/png": "[encoded data removed]"
          },
          "metadata": {}
        },
        {
          "output_type": "stream",
          "name": "stdout",
          "text": [
            "[[ 966    0    7    0    1    2    2    0    2    1]\n",
            " [   0 1128    5    0    0    4    8    6    0    2]\n",
            " [   0    1  977    2    1    0    0    4    0    0]\n",
            " [   2    1    7  989    1   10    2   14    4    5]\n",
            " [   0    0    8    0  947    3    1    3    3    7]\n",
            " [   2    0    0    4    0  860    3    0    4    3]\n",
            " [   5    0    4    0    5    4  937    0    2    1]\n",
            " [   1    1   11    2    1    0    0  975    2    1]\n",
            " [   3    4   13    6    0    6    5    2  947    0]\n",
            " [   1    0    0    7   26    3    0   24   10  989]]\n",
            "F1 score: 0.9715\n",
            "Accuracy: 0.9714999794960022\n"
          ]
        }
      ]
    }
  ]
}